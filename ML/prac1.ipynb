{
 "cells": [
  {
   "cell_type": "code",
   "execution_count": 24,
   "metadata": {},
   "outputs": [],
   "source": [
    "from typing import Iterable\n",
    "from collections import Counter"
   ]
  },
  {
   "cell_type": "code",
   "execution_count": 17,
   "metadata": {},
   "outputs": [],
   "source": [
    "dataset = [8, 3, 2, 1, 8, 7, 1, 4, 8, 4, 4, 2, 5, 3, 8, 4, 3, 6, 6, 6, 5, 5, 3, 9, 0, 4, 5, 6, 8, 6]"
   ]
  },
  {
   "cell_type": "code",
   "execution_count": 18,
   "metadata": {},
   "outputs": [],
   "source": [
    "def mean(arr: Iterable[int]) -> int:\n",
    "  return sum(arr)/len(arr)"
   ]
  },
  {
   "cell_type": "code",
   "execution_count": 31,
   "metadata": {},
   "outputs": [],
   "source": [
    "def mode(arr: Iterable[int]) -> int:\n",
    "  hashmap = Counter(arr)\n",
    "  max_count = max(hashmap.values())\n",
    "  return [x for x,y in hashmap.items() if y == max_count]"
   ]
  },
  {
   "cell_type": "code",
   "execution_count": 35,
   "metadata": {},
   "outputs": [],
   "source": [
    "def median(arr: Iterable[int]) -> int:\n",
    "  arr = sorted(arr)\n",
    "  len_arr = len(arr)\n",
    "  half = len_arr//2\n",
    "\n",
    "  if (len_arr&1):\n",
    "    return arr[half]\n",
    "  \n",
    "  return (arr[half] + arr[half + 1])/2"
   ]
  },
  {
   "cell_type": "code",
   "execution_count": 34,
   "metadata": {},
   "outputs": [
    {
     "ename": "AssertionError",
     "evalue": "",
     "output_type": "error",
     "traceback": [
      "\u001b[0;31m---------------------------------------------------------------------------\u001b[0m",
      "\u001b[0;31mAssertionError\u001b[0m                            Traceback (most recent call last)",
      "Cell \u001b[0;32mIn[34], line 2\u001b[0m\n\u001b[1;32m      1\u001b[0m \u001b[39massert\u001b[39;00m mean(dataset) \u001b[39m==\u001b[39m \u001b[39m4.8\u001b[39m\n\u001b[0;32m----> 2\u001b[0m \u001b[39massert\u001b[39;00m median(dataset) \u001b[39m==\u001b[39m \u001b[39m5\u001b[39m\n\u001b[1;32m      3\u001b[0m \u001b[39massert\u001b[39;00m \u001b[39mset\u001b[39m(mode(dataset)) \u001b[39m==\u001b[39m \u001b[39mset\u001b[39m([\u001b[39m4\u001b[39m,\u001b[39m6\u001b[39m,\u001b[39m8\u001b[39m])\n",
      "\u001b[0;31mAssertionError\u001b[0m: "
     ]
    }
   ],
   "source": [
    "assert mean(dataset) == 4.8\n",
    "assert median(dataset) == 5\n",
    "assert set(mode(dataset)) == set([4,6,8])"
   ]
  },
  {
   "cell_type": "code",
   "execution_count": null,
   "metadata": {},
   "outputs": [],
   "source": []
  }
 ],
 "metadata": {
  "kernelspec": {
   "display_name": "venv",
   "language": "python",
   "name": "python3"
  },
  "language_info": {
   "codemirror_mode": {
    "name": "ipython",
    "version": 3
   },
   "file_extension": ".py",
   "mimetype": "text/x-python",
   "name": "python",
   "nbconvert_exporter": "python",
   "pygments_lexer": "ipython3",
   "version": "3.11.5"
  },
  "orig_nbformat": 4
 },
 "nbformat": 4,
 "nbformat_minor": 2
}
